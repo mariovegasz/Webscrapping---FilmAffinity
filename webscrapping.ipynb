{
 "cells": [
  {
   "cell_type": "code",
   "execution_count": 13,
   "id": "544c32d5-3ed7-4ef8-91bb-b47a9abc10bf",
   "metadata": {},
   "outputs": [],
   "source": [
    "import requests\n",
    "from bs4 import BeautifulSoup\n",
    "import pandas as pd"
   ]
  },
  {
   "cell_type": "markdown",
   "id": "5b627f32-321c-43f6-a754-3518c0262644",
   "metadata": {},
   "source": [
    "### Webscrapping de la Carterla Española de Filmaffinity"
   ]
  },
  {
   "cell_type": "code",
   "execution_count": 14,
   "id": "2b57ccf1-dfdd-4a6d-8db9-77ac4914e7d4",
   "metadata": {},
   "outputs": [],
   "source": [
    "url = \"https://www.filmaffinity.com/es/topcat.php?id=new_th_es\""
   ]
  },
  {
   "cell_type": "code",
   "execution_count": 15,
   "id": "ec64ce3f-d607-4b30-baad-0cce2fda6ab8",
   "metadata": {},
   "outputs": [
    {
     "name": "stdout",
     "output_type": "stream",
     "text": [
      "True\n"
     ]
    }
   ],
   "source": [
    "response = requests.get(url)\n",
    "print(bool(response))\n",
    "soup = BeautifulSoup(response.text, \"html.parser\")"
   ]
  },
  {
   "cell_type": "markdown",
   "id": "07fb4a8c-3169-4246-9fec-8f71b62b22c7",
   "metadata": {},
   "source": [
    "#### Creación del dataframe con las características de las películas"
   ]
  },
  {
   "cell_type": "code",
   "execution_count": 16,
   "id": "257060fd-40dc-4de6-9661-368f9d2f8779",
   "metadata": {},
   "outputs": [],
   "source": [
    "data = pd.DataFrame()\n",
    "data[\"Título\"] = [i.text for i in soup.find_all(\"h3\")]\n",
    "data[\"Duración\"] = [i.text for i in soup.find_all(\"div\",class_=\"duration\")]\n",
    "data[\"Categoria\"]= [i.text for i in soup.find_all(\"a\", class_=\"genre\")]\n",
    "data[\"Director\"] =[i.text for i in soup.find_all(\"div\",class_=\"director\")]\n",
    "data[\"Casting\"] =[i.text for i in soup.find_all(\"div\",class_=\"cast\")]\n",
    "data[\"Puntuación\"] = [i.text for i in soup.find_all(\"div\", class_=\"avg-rating\")]\n",
    "data[\"Votación\"]=[i.text for i in soup.find_all(\"div\", class_=\"rat-count\")]"
   ]
  },
  {
   "cell_type": "markdown",
   "id": "ff108ebe-3ec9-4f17-83dc-b01dc9fe17d4",
   "metadata": {},
   "source": [
    "#### Función de limpieza para el dataset"
   ]
  },
  {
   "cell_type": "code",
   "execution_count": 17,
   "id": "caa362e7-f2a2-4d33-8ea8-1ad266aaf2ea",
   "metadata": {},
   "outputs": [],
   "source": [
    "def limpieza(data):\n",
    "    data[\"Director\"] = data[\"Director\"].replace({'\\n':''},regex=True)\n",
    "    data[\"Casting\"] = data[\"Casting\"].replace({'\\n':''},regex=True)\n",
    "    data[\"Votación\"] = data[\"Votación\"].replace({'\\n':''},regex=True)\n",
    "    data[\"Duración\"] = data[\"Duración\"].replace({'\\n':''},regex=True)\n",
    "    \n",
    "    return data"
   ]
  },
  {
   "cell_type": "markdown",
   "id": "3eba93e8-4460-4cea-8fa4-bea5f4254d9d",
   "metadata": {},
   "source": [
    "#### Dataset final"
   ]
  },
  {
   "cell_type": "code",
   "execution_count": 18,
   "id": "a4cb4931-828f-4fab-a62c-b8b5344c11cb",
   "metadata": {},
   "outputs": [],
   "source": [
    "data = limpieza(data)"
   ]
  },
  {
   "cell_type": "code",
   "execution_count": 19,
   "id": "f4e48e56-5684-4e5e-9e03-e6b5d6a03e38",
   "metadata": {},
   "outputs": [
    {
     "data": {
      "text/html": [
       "<div>\n",
       "<style scoped>\n",
       "    .dataframe tbody tr th:only-of-type {\n",
       "        vertical-align: middle;\n",
       "    }\n",
       "\n",
       "    .dataframe tbody tr th {\n",
       "        vertical-align: top;\n",
       "    }\n",
       "\n",
       "    .dataframe thead th {\n",
       "        text-align: right;\n",
       "    }\n",
       "</style>\n",
       "<table border=\"1\" class=\"dataframe\">\n",
       "  <thead>\n",
       "    <tr style=\"text-align: right;\">\n",
       "      <th></th>\n",
       "      <th>Título</th>\n",
       "      <th>Duración</th>\n",
       "      <th>Categoria</th>\n",
       "      <th>Director</th>\n",
       "      <th>Casting</th>\n",
       "      <th>Puntuación</th>\n",
       "      <th>Votación</th>\n",
       "    </tr>\n",
       "  </thead>\n",
       "  <tbody>\n",
       "    <tr>\n",
       "      <th>0</th>\n",
       "      <td>Close</td>\n",
       "      <td>104 min.</td>\n",
       "      <td>Drama</td>\n",
       "      <td>Lukas Dhont</td>\n",
       "      <td>Eden Dambrine, Gustav De Waele, Émilie Dequenn...</td>\n",
       "      <td>7,8</td>\n",
       "      <td>1.174</td>\n",
       "    </tr>\n",
       "    <tr>\n",
       "      <th>1</th>\n",
       "      <td>As bestas</td>\n",
       "      <td>137 min.</td>\n",
       "      <td>Thriller</td>\n",
       "      <td>Rodrigo Sorogoyen</td>\n",
       "      <td>Marina Foïs, Denis Ménochet, Luis Zahera ...</td>\n",
       "      <td>7,8</td>\n",
       "      <td>12.909</td>\n",
       "    </tr>\n",
       "    <tr>\n",
       "      <th>2</th>\n",
       "      <td>Mantícora</td>\n",
       "      <td>115 min.</td>\n",
       "      <td>Drama</td>\n",
       "      <td>Carlos Vermut</td>\n",
       "      <td>Nacho Sánchez, Zoe Stein, Catalina Sopelana ...</td>\n",
       "      <td>7,5</td>\n",
       "      <td>2.147</td>\n",
       "    </tr>\n",
       "    <tr>\n",
       "      <th>3</th>\n",
       "      <td>Aftersun</td>\n",
       "      <td>98 min.</td>\n",
       "      <td>Drama</td>\n",
       "      <td>Charlotte Wells</td>\n",
       "      <td>Paul Mescal, Francesca Corio, Celia Rowlson-Ha...</td>\n",
       "      <td>7,3</td>\n",
       "      <td>1.084</td>\n",
       "    </tr>\n",
       "    <tr>\n",
       "      <th>4</th>\n",
       "      <td>El gato con botas: El último deseo</td>\n",
       "      <td>100 min.</td>\n",
       "      <td>Animación</td>\n",
       "      <td>Joel Crawford, Januel Mercado</td>\n",
       "      <td></td>\n",
       "      <td>7,2</td>\n",
       "      <td>237</td>\n",
       "    </tr>\n",
       "  </tbody>\n",
       "</table>\n",
       "</div>"
      ],
      "text/plain": [
       "                                Título               Duración  Categoria  \\\n",
       "0                               Close    104 min.                  Drama   \n",
       "1                           As bestas    137 min.               Thriller   \n",
       "2                           Mantícora    115 min.                  Drama   \n",
       "3                            Aftersun     98 min.                  Drama   \n",
       "4  El gato con botas: El último deseo    100 min.              Animación   \n",
       "\n",
       "                         Director  \\\n",
       "0                    Lukas Dhont    \n",
       "1              Rodrigo Sorogoyen    \n",
       "2                  Carlos Vermut    \n",
       "3                Charlotte Wells    \n",
       "4  Joel Crawford, Januel Mercado    \n",
       "\n",
       "                                             Casting Puntuación  \\\n",
       "0  Eden Dambrine, Gustav De Waele, Émilie Dequenn...        7,8   \n",
       "1      Marina Foïs, Denis Ménochet, Luis Zahera ...         7,8   \n",
       "2   Nacho Sánchez, Zoe Stein, Catalina Sopelana ...         7,5   \n",
       "3  Paul Mescal, Francesca Corio, Celia Rowlson-Ha...        7,3   \n",
       "4                                                           7,2   \n",
       "\n",
       "                         Votación  \n",
       "0   1.174                          \n",
       "1  12.909                          \n",
       "2   2.147                          \n",
       "3   1.084                          \n",
       "4     237                          "
      ]
     },
     "execution_count": 19,
     "metadata": {},
     "output_type": "execute_result"
    }
   ],
   "source": [
    "data.head()"
   ]
  }
 ],
 "metadata": {
  "kernelspec": {
   "display_name": "Python 3 (ipykernel)",
   "language": "python",
   "name": "python3"
  },
  "language_info": {
   "codemirror_mode": {
    "name": "ipython",
    "version": 3
   },
   "file_extension": ".py",
   "mimetype": "text/x-python",
   "name": "python",
   "nbconvert_exporter": "python",
   "pygments_lexer": "ipython3",
   "version": "3.9.12"
  }
 },
 "nbformat": 4,
 "nbformat_minor": 5
}
